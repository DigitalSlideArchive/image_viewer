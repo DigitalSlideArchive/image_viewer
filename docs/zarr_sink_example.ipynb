{
 "cells": [
  {
   "cell_type": "markdown",
   "id": "9190dbbd",
   "metadata": {},
   "source": [
    "# Using the Zarr Tile Sink\n",
    "\n",
    "The `ZarrFileTileSource` class has file-writing capabilities; a user may start with an empty Zarr store, add data tiles, then save the data to a file of any format. \n",
    "\n",
    "Typically, this class is called a \"source\" when reading from a file and a \"sink\" when writing to a file. This is just a naming convention, but the read mode and write mode are not mutually exclusive."
   ]
  },
  {
   "cell_type": "markdown",
   "id": "ebaa9c80",
   "metadata": {},
   "source": [
    "## Installation"
   ]
  },
  {
   "cell_type": "code",
   "execution_count": null,
   "id": "4ba28d02",
   "metadata": {},
   "outputs": [],
   "source": [
    "# This will install large_image with the zarr source\n",
    "!pip install large_image[tiff,zarr] --find-links https://girder.github.io/large_image_wheels --upgrade\n",
    "\n",
    "# For maximum capabilities in Jupyter, also install ipyleaflet so you can\n",
    "# view zoomable images in the notebook\n",
    "!pip install ipyleaflet"
   ]
  },
  {
   "cell_type": "markdown",
   "id": "771078f9",
   "metadata": {},
   "source": [
    "## Sample Data Download\n",
    "\n",
    "For this example, we will use data from a sample file. We will copy and modify tiles from this image, writing the modified data to a new file."
   ]
  },
  {
   "cell_type": "code",
   "execution_count": null,
   "id": "1c4b746b",
   "metadata": {},
   "outputs": [],
   "source": [
    "!curl -L -C - -o example.tiff https://demo.kitware.com/histomicstk/api/v1/item/58b480ba92ca9a000b08c899/download"
   ]
  },
  {
   "cell_type": "code",
   "execution_count": null,
   "id": "5c39f222",
   "metadata": {},
   "outputs": [],
   "source": [
    "import large_image\n",
    "\n",
    "original_image_path = 'example.tiff'\n",
    "processed_image_path = 'processed_example_1.tiff'\n",
    "\n",
    "source = large_image.open(original_image_path)\n",
    "\n",
    "# view the metadata\n",
    "source_metadata = source.getMetadata()\n",
    "source_metadata"
   ]
  },
  {
   "cell_type": "code",
   "execution_count": null,
   "id": "c018cebd",
   "metadata": {},
   "outputs": [],
   "source": [
    "# show the source image in an interactive viewer\n",
    "source"
   ]
  },
  {
   "cell_type": "markdown",
   "id": "f88191b2",
   "metadata": {},
   "source": [
    "## Writing Processed Data to a New File"
   ]
  },
  {
   "cell_type": "code",
   "execution_count": null,
   "id": "0e75e6de",
   "metadata": {},
   "outputs": [],
   "source": [
    "from skimage.color.adapt_rgb import adapt_rgb, hsv_value\n",
    "from skimage.morphology import disk\n",
    "from skimage import filters\n",
    "\n",
    "# define some image processing function\n",
    "\n",
    "@adapt_rgb(hsv_value)\n",
    "def process_tile(tile, footprint_size):\n",
    "    return filters.unsharp_mask(\n",
    "        tile, radius=footprint_size\n",
    "    )"
   ]
  },
  {
   "cell_type": "code",
   "execution_count": null,
   "id": "fb89a0b5",
   "metadata": {},
   "outputs": [],
   "source": [
    "# create a sink, which is an instance of ZarrFileTileSource and has no data\n",
    "sink = large_image.new()\n",
    "\n",
    "# compare three different footprint sizes for processing algorithm\n",
    "# computing the processed image takes about 1 minute for each value\n",
    "footprint_sizes = [1, 10, 50]\n",
    "print(f'Processing image for {len(footprint_sizes)} frames.')\n",
    "\n",
    "# create a frame for each processed result\n",
    "for i, footprint_size in enumerate(footprint_sizes):\n",
    "    print('Processing image with footprint_size = ', footprint_size)\n",
    "    # iterate through tiles, getting numpy arrays for each tile\n",
    "    for tile in source.tileIterator(format='numpy'):\n",
    "            # for each tile, run some processing algorithm\n",
    "            t = tile['tile']\n",
    "            processed_tile = process_tile(t, footprint_size) * 255\n",
    "\n",
    "            # add modified tile to sink\n",
    "            # specify tile x, tile y, and any arbitrary frame parameters\n",
    "            sink.addTile(processed_tile, x=tile['x'], y=tile['y'], i=i)\n",
    "# view metadata\n",
    "sink.getMetadata()     "
   ]
  },
  {
   "cell_type": "code",
   "execution_count": null,
   "id": "e9114da0",
   "metadata": {},
   "outputs": [],
   "source": [
    "# show the result image in an interactive viewer\n",
    "# the viewer includes a slider for this multiframe image\n",
    "# switch between frames to view the differences between the values passed to footprint_size\n",
    "sink"
   ]
  },
  {
   "cell_type": "markdown",
   "id": "3c88d352",
   "metadata": {},
   "source": [
    "## Edit Attributes and Write Result File"
   ]
  },
  {
   "cell_type": "code",
   "execution_count": null,
   "id": "24e5c87c",
   "metadata": {},
   "outputs": [],
   "source": [
    "# set crop bounds\n",
    "sink.crop = (3000, 5000, 2048, 2048)\n",
    "\n",
    "# set mm_x and mm_y from source metadata\n",
    "sink.mm_x = source_metadata.get('mm_x')\n",
    "sink.mm_y = source_metadata.get('mm_y')\n",
    "\n",
    "# set image description\n",
    "sink.imageDescription = 'processed with scikit-image'\n",
    "\n",
    "# add original thumbnail as an associated image\n",
    "sink.addAssociatedImage(source.getThumbnail()[0], imageKey='original')\n",
    "\n",
    "# write new image as tiff (other format options include .zip, .zarr, .db, .sqlite, .svs, etc.)\n",
    "sink.write(processed_image_path)"
   ]
  },
  {
   "cell_type": "markdown",
   "id": "5ba5a838",
   "metadata": {},
   "source": [
    "## View Results"
   ]
  },
  {
   "cell_type": "code",
   "execution_count": null,
   "id": "46d62547",
   "metadata": {},
   "outputs": [],
   "source": [
    "# open written file as a new source\n",
    "# this will be opened as a TiffFileTileSource\n",
    "source_2 = large_image.open(processed_image_path)\n",
    "\n",
    "# view metadata\n",
    "source_2.getMetadata()"
   ]
  },
  {
   "cell_type": "code",
   "execution_count": null,
   "id": "d71bd65a",
   "metadata": {},
   "outputs": [],
   "source": [
    "# show source_2 in an interactive viewer\n",
    "source_2"
   ]
  }
 ],
 "metadata": {
  "kernelspec": {
   "display_name": "Python 3 (ipykernel)",
   "language": "python",
   "name": "python3"
  },
  "language_info": {
   "codemirror_mode": {
    "name": "ipython",
    "version": 3
   },
   "file_extension": ".py",
   "mimetype": "text/x-python",
   "name": "python",
   "nbconvert_exporter": "python",
   "pygments_lexer": "ipython3",
   "version": "3.8.10"
  },
  "toc": {
   "base_numbering": 1,
   "nav_menu": {},
   "number_sections": true,
   "sideBar": true,
   "skip_h1_title": false,
   "title_cell": "Table of Contents",
   "title_sidebar": "Contents",
   "toc_cell": false,
   "toc_position": {},
   "toc_section_display": true,
   "toc_window_display": false
  }
 },
 "nbformat": 4,
 "nbformat_minor": 5
}
